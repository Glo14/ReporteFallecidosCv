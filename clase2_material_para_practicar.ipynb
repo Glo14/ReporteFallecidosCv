{
  "nbformat": 4,
  "nbformat_minor": 0,
  "metadata": {
    "colab": {
      "provenance": []
    },
    "kernelspec": {
      "name": "python3",
      "display_name": "Python 3"
    },
    "language_info": {
      "name": "python"
    }
  },
  "cells": [
    {
      "cell_type": "markdown",
      "source": [
        "# Editor de texto:\n",
        "\n",
        "Un editor de texto es un programa simple para escribir y editar código.\n",
        "\n",
        "Características principales:\n",
        "\n",
        "* Edición básica de texto\n",
        "* Resaltado de sintaxis\n",
        "* Autocompletado básico\n",
        "\n",
        "Ejemplos:\n",
        "\n",
        "* Visual Studio Code: Editor de código ligero y altamente personalizable.\n",
        "https://code.visualstudio.com/\n",
        "\n",
        "\n",
        "* Sublime Text: Editor de texto rápido con soporte para Python.\n",
        "https://www.sublimetext.com/\n",
        "\n",
        "\n",
        "* Atom: Editor de código de código abierto y personalizable.\n",
        "https://atom-editor.cc/\n",
        "\n",
        "\n",
        "* Vim/Neovim: Editores de texto altamente configurables para usuarios avanzados.\n",
        "https://neovim.io/\n",
        "\n",
        "\n",
        "# IDE (Entorno de Desarrollo Integrado):\n",
        "\n",
        "Un IDE es una aplicación más compleja que combina varias herramientas para el desarrollo.\n",
        "\n",
        "Características principales:\n",
        "\n",
        "* Todo lo que ofrece un editor de texto\n",
        "* Depurador integrado\n",
        "* Gestión de proyectos\n",
        "* Herramientas de análisis de código\n",
        "* Integración con sistemas de control de versiones\n",
        "* Autocompletado avanzado y refactorización\n",
        "* Ejecución de código dentro del entorno\n",
        "\n",
        "Ejemplos: PyCharm, Visual Studio Code (con extensiones), Spyder.\n",
        "* PyCharm: IDE completo con muchas funcionalidades.\n",
        "https://www.jetbrains.com/es-es/pycharm/\n",
        "\n",
        "* Visual Studio Code: Editor de código ligero y altamente personalizable.\n",
        "https://code.visualstudio.com/\n",
        "\n",
        "* Spyder: Diseñado específicamente para científicos e ingenieros.\n",
        "https://www.spyder-ide.org/\n",
        "\n",
        "\n",
        "* IDLE: IDE básico incluido con Python, bueno para principiantes.\n",
        "https://docs.python.org/3/library/idle.html\n",
        "\n",
        "* Thonny: IDE simple, ideal para principiantes en programación.\n",
        "https://thonny.org/\n",
        "\n",
        "* Eclipse + PyDev: IDE versátil con soporte para múltiples lenguajes.\n",
        "https://www.pydev.org/\n",
        "\n",
        "# ¿No es editor de texto y tampoco IDE?\n",
        "\n",
        "Jupyter Notebook (https://jupyter.org/) ocupa una categoría única que no encaja perfectamente en las definiciones tradicionales de IDE o editor de texto.\n",
        "\n",
        "## Características de Jupyter Notebook:\n",
        "\n",
        "* Entorno interactivo: Permite ejecutar código en celdas individuales y ver los resultados inmediatamente.\n",
        "* Combinación de código y documentación: Permite mezclar código, texto formateado, ecuaciones y visualizaciones en un solo documento.\n",
        "* Enfoque en datos: Especialmente útil para análisis de datos, visualización y computación científica.\n",
        "* Ejecución no lineal: Las celdas pueden ejecutarse en cualquier orden, no necesariamente de arriba a abajo.\n",
        "* Soporte para múltiples lenguajes: Aunque es muy popular para Python, también soporta R, Julia y otros lenguajes.\n",
        "* Visualización integrada: Muestra gráficos y resultados directamente en el navegador.\n",
        "\n",
        "## Comparación con IDEs y editores de texto tradicionales:\n",
        "\n",
        "* No tiene todas las características de un IDE completo (como depuración avanzada o gestión de proyectos complejos).\n",
        "* Ofrece más que un simple editor de texto, especialmente en términos de ejecución de código y visualización de resultados.\n",
        "* Su interfaz basada en navegador y su estructura de celdas lo diferencian de ambos.\n",
        "\n",
        "Por lo tanto, Jupyter Notebook es mejor descrito como un **\"entorno de desarrollo interactivo\"** o una **\"aplicación web para creación y compartición de documentos computacionales\"**. No es un IDE tradicional ni un simple editor de texto, sino una herramienta especializada que combina elementos de ambos con características únicas propias."
      ],
      "metadata": {
        "id": "VFbGfwXgFwoE"
      }
    },
    {
      "source": [
        "k = 1\n",
        "i = 0\n",
        "while k:\n",
        "    if i == 4:\n",
        "        k = 0 # This line was not indented correctly\n",
        "        print(i)\n",
        "    else:\n",
        "        i += 1\n",
        "    pass"
      ],
      "cell_type": "code",
      "metadata": {
        "colab": {
          "base_uri": "https://localhost:8080/"
        },
        "id": "C0LouRCEfQsq",
        "outputId": "2230f33d-8134-4faa-96e0-85301180bca5"
      },
      "execution_count": 12,
      "outputs": [
        {
          "output_type": "stream",
          "name": "stdout",
          "text": [
            "4\n"
          ]
        }
      ]
    },
    {
      "cell_type": "code",
      "source": [
        "for i in range(1, 1000):\n",
        "    if i % 2 == 0:\n",
        "        continue\n",
        "    elif i % 25 == 0:\n",
        "        print(f\"{i} múltiplo de 25, pero no de 13\")\n",
        "        break\n",
        "    else:\n",
        "        print(\"Ingreso al else\")\n",
        "\n",
        "    print(\"múltiplo de 2\", i)\n"
      ],
      "metadata": {
        "colab": {
          "base_uri": "https://localhost:8080/"
        },
        "id": "Si9xJ4kgf-Ny",
        "outputId": "6e50500d-a0e0-4673-c3a2-8837008b6715"
      },
      "execution_count": 15,
      "outputs": [
        {
          "output_type": "stream",
          "name": "stdout",
          "text": [
            "Ingreso al else\n",
            "múltiplo de 2 1\n",
            "Ingreso al else\n",
            "múltiplo de 2 3\n",
            "Ingreso al else\n",
            "múltiplo de 2 5\n",
            "Ingreso al else\n",
            "múltiplo de 2 7\n",
            "Ingreso al else\n",
            "múltiplo de 2 9\n",
            "Ingreso al else\n",
            "múltiplo de 2 11\n",
            "Ingreso al else\n",
            "múltiplo de 2 13\n",
            "Ingreso al else\n",
            "múltiplo de 2 15\n",
            "Ingreso al else\n",
            "múltiplo de 2 17\n",
            "Ingreso al else\n",
            "múltiplo de 2 19\n",
            "Ingreso al else\n",
            "múltiplo de 2 21\n",
            "Ingreso al else\n",
            "múltiplo de 2 23\n",
            "25 múltiplo de 25, pero no de 13\n"
          ]
        }
      ]
    },
    {
      "cell_type": "code",
      "source": [
        "x, y, z = (1, 2, 3)\n",
        "print(type((1, -2, 3)))\n",
        "\n",
        "print(x, type(x))\n",
        "print(y, type(y))\n",
        "print(z, type(z))\n"
      ],
      "metadata": {
        "colab": {
          "base_uri": "https://localhost:8080/"
        },
        "id": "LPglWvnHibWj",
        "outputId": "26a54490-06dd-4390-bc8d-b4802f717592"
      },
      "execution_count": 16,
      "outputs": [
        {
          "output_type": "stream",
          "name": "stdout",
          "text": [
            "<class 'tuple'>\n",
            "1 <class 'int'>\n",
            "2 <class 'int'>\n",
            "3 <class 'int'>\n"
          ]
        }
      ]
    },
    {
      "cell_type": "code",
      "source": [
        "x, y, z = (20, 2, 3)\n",
        "\n",
        "print(type((20, 2, 3)))\n",
        "print(x, type(x))\n",
        "x = x * 2\n",
        "print(x, type(x))\n",
        "print(y, type(y))\n",
        "print(z, type(z))\n"
      ],
      "metadata": {
        "colab": {
          "base_uri": "https://localhost:8080/"
        },
        "id": "f_-_9iqilWPX",
        "outputId": "6f85f85d-203c-4034-9b42-3630493ec902"
      },
      "execution_count": 17,
      "outputs": [
        {
          "output_type": "stream",
          "name": "stdout",
          "text": [
            "<class 'tuple'>\n",
            "20 <class 'int'>\n",
            "40 <class 'int'>\n",
            "2 <class 'int'>\n",
            "3 <class 'int'>\n"
          ]
        }
      ]
    },
    {
      "cell_type": "markdown",
      "source": [
        "# Condicionales /if/else/elif\n",
        "\n"
      ],
      "metadata": {
        "id": "oHeivxoEEK-1"
      }
    },
    {
      "cell_type": "code",
      "execution_count": null,
      "metadata": {
        "id": "fw4gO95gDWnF",
        "colab": {
          "base_uri": "https://localhost:8080/"
        },
        "outputId": "82757401-c30f-421f-a7dc-c4d697787fb5"
      },
      "outputs": [
        {
          "output_type": "stream",
          "name": "stdout",
          "text": [
            "Ingresa un numero real\n",
            " n = 10\n",
            "El número es positivo\n"
          ]
        }
      ],
      "source": [
        "# 1. Comprobar si un número es positivo\n",
        "numero = float(input(\"Ingresa un numero real\\n n = \"))\n",
        "if (numero > 0):\n",
        "    print(\"El número es positivo\")\n",
        "else:\n",
        "    print(\"El número no es positivo\")"
      ]
    },
    {
      "cell_type": "code",
      "source": [
        "# 2. Determinar si un número es par o impar\n",
        "numero = 4\n",
        "if numero % 2 == 0:\n",
        "    # print(\"estoy aca\")\n",
        "    print(\"El número es par\")\n",
        "else:\n",
        "    print(\"El número es impar\")"
      ],
      "metadata": {
        "colab": {
          "base_uri": "https://localhost:8080/"
        },
        "id": "mIKgQ3lTJJUw",
        "outputId": "3e9de2ce-01cb-4942-d102-2b7efeeeff05"
      },
      "execution_count": null,
      "outputs": [
        {
          "output_type": "stream",
          "name": "stdout",
          "text": [
            "El número es par\n"
          ]
        }
      ]
    },
    {
      "cell_type": "code",
      "source": [
        "# 3. Calificación simple\n",
        "calificacion = 75\n",
        "if calificacion >= 60:\n",
        "    print(\"Aprobado\")\n",
        "else:\n",
        "    print(\"Reprobado\")"
      ],
      "metadata": {
        "colab": {
          "base_uri": "https://localhost:8080/"
        },
        "id": "ijcLLu0uJJaf",
        "outputId": "765587c5-7e95-49a1-f41b-43a7a9a48a84"
      },
      "execution_count": null,
      "outputs": [
        {
          "output_type": "stream",
          "name": "stdout",
          "text": [
            "Aprobado\n"
          ]
        }
      ]
    },
    {
      "cell_type": "code",
      "source": [
        "# 4. Categorizar edades\n",
        "edad = 25\n",
        "if edad < 18:\n",
        "    print(\"Menor de edad\")\n",
        "elif 18 <= edad < 65:\n",
        "    print(\"Adulto\")\n",
        "else:\n",
        "    print(\"Adulto mayor\")"
      ],
      "metadata": {
        "colab": {
          "base_uri": "https://localhost:8080/"
        },
        "id": "BIkUqdb2JSSh",
        "outputId": "de2f3039-7231-459d-eb81-18f00eab9eed"
      },
      "execution_count": null,
      "outputs": [
        {
          "output_type": "stream",
          "name": "stdout",
          "text": [
            "Adulto\n"
          ]
        }
      ]
    },
    {
      "cell_type": "code",
      "source": [
        "# 5. Calculadora simple\n",
        "a = 10\n",
        "b = 0\n",
        "operacion = \"/\"\n",
        "if operacion == \"+\":\n",
        "    print(f\"Resultado: {a + b}\")\n",
        "elif operacion == \"-\":\n",
        "    print(f\"Resultado: {a - b}\")\n",
        "elif operacion == \"*\":\n",
        "    print(f\"Resultado: {a * b}\")\n",
        "elif operacion == \"/\":\n",
        "    if b != 0:\n",
        "        print(f\"Resultado: {a / b}\")\n",
        "    else:\n",
        "        print(\"Error: División por cero\")\n",
        "else:\n",
        "    print(\"Operación no válida\")"
      ],
      "metadata": {
        "colab": {
          "base_uri": "https://localhost:8080/"
        },
        "id": "YINx-DDaJUh_",
        "outputId": "da4f66b6-aea7-4070-a318-04866f42d91d"
      },
      "execution_count": null,
      "outputs": [
        {
          "output_type": "stream",
          "name": "stdout",
          "text": [
            "Error: División por cero\n"
          ]
        }
      ]
    },
    {
      "cell_type": "code",
      "source": [
        "# 6. Determinar el día de la semana\n",
        "dia = 3\n",
        "dias_semana = [\"Lunes\", \"Martes\", \"Miércoles\", \"Jueves\", \"Viernes\", \"Sábado\", \"Domingo\"]\n",
        "if 1 <= dia <= 7:\n",
        "    print(f\"El día {dia} es {dias_semana[dia-1]}\")\n",
        "else:\n",
        "    print(\"Número de día no válido\")"
      ],
      "metadata": {
        "colab": {
          "base_uri": "https://localhost:8080/"
        },
        "id": "RAfCyMNLJUk-",
        "outputId": "57e1dfa2-11d9-4895-abea-215793febeee"
      },
      "execution_count": null,
      "outputs": [
        {
          "output_type": "stream",
          "name": "stdout",
          "text": [
            "El día 3 es Miércoles\n"
          ]
        }
      ]
    },
    {
      "cell_type": "code",
      "source": [
        "# contrasena = \"abc123\"  # Muy corta\n",
        "# contrasena =\"abcdefgh\" # Sin mayúsculas\n",
        "# contrasena =\"ABCDEFGH\"  # Sin minúsculas\n",
        "# contrasena =\"Abcdefgh\"  # Sin números\n",
        "# contrasena =\"Abcdef123\"  # Válida\n",
        "contrasena =input(\"Ingresa tu contraseña: \\n\")  # ?\n",
        "\n",
        "if len(contrasena) < 8:\n",
        "    print(\"La contraseña debe tener al menos 8 caracteres\")\n",
        "elif not any(c.isupper() for c in contrasena):\n",
        "    print( \"La contraseña debe contener al menos una letra mayúscula\")\n",
        "elif not any(c.islower() for c in contrasena):\n",
        "    print( \"La contraseña debe contener al menos una letra minúscula\")\n",
        "elif not any(c.isdigit() for c in contrasena):\n",
        "    print( \"La contraseña debe contener al menos un número\")\n",
        "else:\n",
        "    print( \"Contraseña válida\")"
      ],
      "metadata": {
        "colab": {
          "base_uri": "https://localhost:8080/"
        },
        "id": "TfPT-EtfKGXr",
        "outputId": "69aa4b94-7b7d-4f3c-ca32-81e30171ceba"
      },
      "execution_count": null,
      "outputs": [
        {
          "output_type": "stream",
          "name": "stdout",
          "text": [
            "Ingresa tu contraseña: \n",
            "123\n",
            "La contraseña debe tener al menos 8 caracteres\n"
          ]
        }
      ]
    },
    {
      "cell_type": "code",
      "source": [
        "# 7. Validación de contraseña\n",
        "# def validar_contrasena(contrasena):\n",
        "#     if len(contrasena) < 8:\n",
        "#         return \"La contraseña debe tener al menos 8 caracteres\"\n",
        "#     elif not any(c.isupper() for c in contrasena):\n",
        "#         return \"La contraseña debe contener al menos una letra mayúscula\"\n",
        "#     elif not any(c.islower() for c in contrasena):\n",
        "#         return \"La contraseña debe contener al menos una letra minúscula\"\n",
        "#     elif not any(c.isdigit() for c in contrasena):\n",
        "#         return \"La contraseña debe contener al menos un número\"\n",
        "#     else:\n",
        "#         return \"Contraseña válida\"\n",
        "\n",
        "# print(validar_contrasena(\"abc123\"))  # Muy corta\n",
        "# print(validar_contrasena(\"abcdefgh\"))  # Sin mayúsculas\n",
        "# print(validar_contrasena(\"ABCDEFGH\"))  # Sin minúsculas\n",
        "# print(validar_contrasena(\"Abcdefgh\"))  # Sin números\n",
        "# print(validar_contrasena(\"Abcdef123\"))  # Válida"
      ],
      "metadata": {
        "colab": {
          "base_uri": "https://localhost:8080/"
        },
        "id": "Xlv_YfmeJUnZ",
        "outputId": "a70a1b61-c569-40c2-e98a-af5557193c13"
      },
      "execution_count": null,
      "outputs": [
        {
          "output_type": "stream",
          "name": "stdout",
          "text": [
            "La contraseña debe tener al menos 8 caracteres\n",
            "La contraseña debe contener al menos una letra mayúscula\n",
            "La contraseña debe contener al menos una letra minúscula\n",
            "La contraseña debe contener al menos un número\n",
            "Contraseña válida\n"
          ]
        }
      ]
    },
    {
      "cell_type": "code",
      "source": [
        "a , b , c = 3, 4, 5  # Escaleno\n",
        "# a , b , c = 5, 5, 5  # Equilátero\n",
        "# a , b , c = 5, 5, 7  # Isósceles\n",
        "# a , b , c = 1, 1, 10  # No válido\n",
        "\n",
        "if (a + b <= c) or (a + c <= b) or (b + c <= a):\n",
        "    print( \"No es un triángulo válido\")\n",
        "elif (a == b == c):\n",
        "    print( \"Triángulo equilátero\")\n",
        "elif (a == b or b == c or a == c):\n",
        "    print( \"Triángulo isósceles\")\n",
        "else:\n",
        "    print( \"Triángulo escaleno\")"
      ],
      "metadata": {
        "colab": {
          "base_uri": "https://localhost:8080/"
        },
        "id": "hoCc1Q01K7IB",
        "outputId": "e5640f88-81f1-4547-c109-fce053d0acfd"
      },
      "execution_count": null,
      "outputs": [
        {
          "output_type": "stream",
          "name": "stdout",
          "text": [
            "Triángulo equilátero\n"
          ]
        }
      ]
    },
    {
      "cell_type": "code",
      "source": [
        "# 8. Clasificación de triángulos\n",
        "# def clasificar_triangulo(a, b, c):\n",
        "#     if a + b <= c or a + c <= b or b + c <= a:\n",
        "#         return \"No es un triángulo válido\"\n",
        "#     elif a == b == c:\n",
        "#         return \"Triángulo equilátero\"\n",
        "#     elif a == b or b == c or a == c:\n",
        "#         return \"Triángulo isósceles\"\n",
        "#     else:\n",
        "#         return \"Triángulo escaleno\"\n",
        "\n",
        "# print(clasificar_triangulo(3, 4, 5))  # Escaleno\n",
        "# print(clasificar_triangulo(5, 5, 5))  # Equilátero\n",
        "# print(clasificar_triangulo(5, 5, 7))  # Isósceles\n",
        "# print(clasificar_triangulo(1, 1, 10))  # No válido"
      ],
      "metadata": {
        "id": "ghEQSiOvJqWo"
      },
      "execution_count": null,
      "outputs": []
    },
    {
      "cell_type": "code",
      "source": [
        "a, b, c ,d = 5, 3, 2, 4  # Condición 1\n",
        "# a, b, c ,d = 3, 3, 4, 4  # Condición 2\n",
        "# a, b, c ,d = 2, 4, 1, 6  # Condición 3\n",
        "# a, b, c ,d = 1, 3, 3, 5  # Ninguna\n",
        "\n",
        "if (a > b and c < d) or (a < b and c > d):\n",
        "    print( \"Condición 1 cumplida\")\n",
        "elif (a == b or c == d) and (a != c or b != d):\n",
        "    print( \"Condición 2 cumplida\")\n",
        "elif not (a > b or c > d) and (b % 2 == 0 or d % 2 == 0):\n",
        "    print( \"Condición 3 cumplida\")\n",
        "else:\n",
        "    print( \"Ninguna condición cumplida\")"
      ],
      "metadata": {
        "colab": {
          "base_uri": "https://localhost:8080/"
        },
        "id": "CvK-48o5LfAJ",
        "outputId": "eeb699fd-079a-4ab5-e606-dcc84f1e1bdc"
      },
      "execution_count": null,
      "outputs": [
        {
          "output_type": "stream",
          "name": "stdout",
          "text": [
            "Ninguna condición cumplida\n"
          ]
        }
      ]
    },
    {
      "cell_type": "code",
      "source": [
        "# # 9. Evaluación de expresiones lógicas complejas\n",
        "# def evaluar_logica(a, b, c, d):\n",
        "#     if (a > b and c < d) or (a < b and c > d):\n",
        "#         return \"Condición 1 cumplida\"\n",
        "#     elif (a == b or c == d) and (a != c or b != d):\n",
        "#         return \"Condición 2 cumplida\"\n",
        "#     elif not (a > b or c > d) and (b % 2 == 0 or d % 2 == 0):\n",
        "#         return \"Condición 3 cumplida\"\n",
        "#     else:\n",
        "#         return \"Ninguna condición cumplida\"\n",
        "\n",
        "# print(evaluar_logica(5, 3, 2, 4))  # Condición 1\n",
        "# print(evaluar_logica(3, 3, 4, 4))  # Condición 2\n",
        "# print(evaluar_logica(2, 4, 1, 6))  # Condición 3\n",
        "# print(evaluar_logica(1, 3, 3, 5))  # Ninguna"
      ],
      "metadata": {
        "id": "S0uU_R5ZJqbQ"
      },
      "execution_count": null,
      "outputs": []
    },
    {
      "cell_type": "markdown",
      "source": [
        "# Iteración /for"
      ],
      "metadata": {
        "id": "4YQu1sjzMLlk"
      }
    },
    {
      "cell_type": "code",
      "source": [
        "# 1. Iterar sobre un rango de números\n",
        "print(\"1. Números del 0 al 4:\")\n",
        "for i in range(5):\n",
        "    print(i)"
      ],
      "metadata": {
        "colab": {
          "base_uri": "https://localhost:8080/"
        },
        "id": "nEZn4TwaMggl",
        "outputId": "eff6a181-43d0-4cfb-d185-97e1c493e7b3"
      },
      "execution_count": null,
      "outputs": [
        {
          "output_type": "stream",
          "name": "stdout",
          "text": [
            "1. Números del 0 al 4:\n",
            "0\n",
            "1\n",
            "2\n",
            "3\n",
            "4\n"
          ]
        }
      ]
    },
    {
      "cell_type": "code",
      "source": [
        "# 2. Iterar sobre una lista\n",
        "print(\"\\n2. Frutas en la lista:\")\n",
        "frutas = [\"manzana\", \"banana\", \"cereza\"]\n",
        "for fruta in frutas:\n",
        "    print(fruta)"
      ],
      "metadata": {
        "colab": {
          "base_uri": "https://localhost:8080/"
        },
        "id": "x3pFhFY_MkcM",
        "outputId": "a55892f1-27f5-46e9-db5b-6dcf9cb6b0f1"
      },
      "execution_count": null,
      "outputs": [
        {
          "output_type": "stream",
          "name": "stdout",
          "text": [
            "\n",
            "2. Frutas en la lista:\n",
            "manzana\n",
            "banana\n",
            "cereza\n"
          ]
        }
      ]
    },
    {
      "cell_type": "code",
      "source": [
        "# 3. Suma de números en un rango\n",
        "print(\"\\n3. Suma de números del 1 al 5:\")\n",
        "suma = 0  # contadores o acumuladores\n",
        "\n",
        "for numero in range(1, 6):   # 1,2,3,4,5\n",
        "    suma += numero  # suma = suma +numero\n",
        "# numero = 1 ->   1 = 0 + 1\n",
        "# numero = 2 ->   3 = 1 + 2\n",
        "# numero = 3 ->   6 = 3 + 3\n",
        "# numero = 4 ->  10 = 6 + 4\n",
        "# numero = 5 ->  15 = 10 + 5\n",
        "\n",
        "\n",
        "print(f\"La suma es: {suma}\")\n",
        "\n",
        "print(\"\\n3'. Suma de números del 1 al 5 (con saltos de 2 en 2):\")\n",
        "suma = 0\n",
        "for numero in range(1,6,2):  # 1,3,5\n",
        "    suma += numero\n",
        "print(f\"La suma es: {suma}\")"
      ],
      "metadata": {
        "colab": {
          "base_uri": "https://localhost:8080/"
        },
        "id": "6YdiDANBMkes",
        "outputId": "33de8cfc-258b-4147-9097-dccd646c95e2"
      },
      "execution_count": null,
      "outputs": [
        {
          "output_type": "stream",
          "name": "stdout",
          "text": [
            "\n",
            "3. Suma de números del 1 al 5:\n",
            "La suma es: 15\n",
            "\n",
            "3'. Suma de números del 1 al 5 (con saltos de 2 en 2):\n",
            "La suma es: 9\n"
          ]
        }
      ]
    },
    {
      "cell_type": "code",
      "source": [
        "# 4. Iterar sobre un diccionario\n",
        "print(\"\\n4. Datos de persona:\")\n",
        "persona = {\"nombre\": \"Ana\", \"edad\": 28, \"ciudad\": \"Madrid\"}\n",
        "\n",
        "for clave, valor in persona.items():\n",
        "    print(f\"{clave}: {valor}\")\n",
        "\n",
        "# modifico el diccionario\n",
        "print(\"\\n4'. Datos de persona modificado:\")\n",
        "persona = {\"nombre\": \"Ana\", \"edad\": 28, \"ciudad\": \"Madrid\"}\n",
        "for clave, valor in persona.items():\n",
        "    persona[clave] = valor*2\n",
        "\n",
        "print(\"Dicionario modificado:\",persona)\n",
        "\n",
        "print(f\"\\nVeamos que imprime items():\\n persona.items() = {persona.items()}\")\n",
        "print(f\"\\nOtros casos:\")\n",
        "print(f\"\\nVeamos que imprime keys():\\n persona.items() = {persona.keys()}\")\n",
        "print(f\"\\nVeamos que imprime values():\\n persona.items() = {persona.values()}\")"
      ],
      "metadata": {
        "colab": {
          "base_uri": "https://localhost:8080/"
        },
        "id": "fA85RqqYMkhH",
        "outputId": "304dbe7e-27e6-4985-d2f7-404e14088ceb"
      },
      "execution_count": null,
      "outputs": [
        {
          "output_type": "stream",
          "name": "stdout",
          "text": [
            "\n",
            "4. Datos de persona:\n",
            "nombre: Ana\n",
            "edad: 28\n",
            "ciudad: Madrid\n",
            "\n",
            "4'. Datos de persona modificado:\n",
            "Dicionario modificado: {'nombre': 'AnaAna', 'edad': 56, 'ciudad': 'MadridMadrid'}\n",
            "\n",
            "Veamos que imprime items():\n",
            " persona.items() = dict_items([('nombre', 'AnaAna'), ('edad', 56), ('ciudad', 'MadridMadrid')])\n",
            "\n",
            "Otros casos:\n",
            "\n",
            "Veamos que imprime keys():\n",
            " persona.items() = dict_keys(['nombre', 'edad', 'ciudad'])\n",
            "\n",
            "Veamos que imprime values():\n",
            " persona.items() = dict_values(['AnaAna', 56, 'MadridMadrid'])\n"
          ]
        }
      ]
    },
    {
      "cell_type": "code",
      "source": [
        "# 5. Enumerate para obtener índice y valor\n",
        "print(\"\\n5. Frutas enumeradas:\")\n",
        "frutas = [\"manzana\", \"banana\", \"cereza\"]\n",
        "for indice, fruta in enumerate(frutas):  # start = 0\n",
        "    print(f\"Índice {indice}: {fruta}\")\n",
        "\n",
        "\n",
        "print(\"\\n5'. Frutas enumeradas:\")\n",
        "for indice, fruta in enumerate(frutas,start=5):\n",
        "    print(f\"Índice {indice}: {fruta}\")"
      ],
      "metadata": {
        "colab": {
          "base_uri": "https://localhost:8080/"
        },
        "id": "6dXK3E3QMkjk",
        "outputId": "10eed8e0-5fed-4f77-fff5-d92b4d95bdd5"
      },
      "execution_count": null,
      "outputs": [
        {
          "output_type": "stream",
          "name": "stdout",
          "text": [
            "\n",
            "5. Frutas enumeradas:\n",
            "Índice 0: manzana\n",
            "Índice 1: banana\n",
            "Índice 2: cereza\n",
            "\n",
            "5'. Frutas enumeradas:\n",
            "Índice 5: manzana\n",
            "Índice 6: banana\n",
            "Índice 7: cereza\n"
          ]
        }
      ]
    },
    {
      "cell_type": "code",
      "source": [
        "# 6. Comprensión de lista para crear una nueva lista\n",
        "print(\"\\n6. Cuadrados de números:\")\n",
        "cuadrados = [x**2 for x in range(1, 6)]\n",
        "print(cuadrados)\n",
        "\n",
        "print(\"\\ncuadrados_pares\")\n",
        "cuadrados_pares = [i ** 2 for i in range(10) if i % 2 == 0]\n",
        "print(cuadrados_pares)\n",
        "\n",
        "print(\"\\npares ordenados\")\n",
        "pares = [(x, y) for x in range(1, 4) for y in range(1, 3)]\n",
        "print(pares)\n",
        "\n",
        "print(\"\\ncombinaciones\")\n",
        "lista1 = [1, 2, 3]\n",
        "lista2 = ['a', 'b', 'c']\n",
        "\n",
        "combinaciones = [(x, y) for x in lista1 for y in lista2]\n",
        "print(combinaciones)\n",
        "\n",
        "print(\"\\nMultiples condiciones\")\n",
        "numeros = [x for x in range(100) if x % 2 == 0 if x % 5 == 0]\n",
        "print(numeros)\n",
        "\n",
        "print(\"\\nif-else\")\n",
        "paridad = [\"par\" if x % 2 == 0 else \"impar\" for x in range(10)]\n",
        "print(paridad)\n",
        "\n",
        "print(\"\\nGenerar Combinaciones Filtradas\")\n",
        "combinaciones_filtradas = [(letra, numero) for letra in 'ABC' for numero in range(4) if numero % 2 == 0]\n",
        "print(combinaciones_filtradas)\n",
        "\n",
        "print(\"\\nAplanar listas\")\n",
        "listas_anidadas = [[1, 2, 3], [4, 5], [6, 7, 8]]\n",
        "lista_simple = [item for sublista in listas_anidadas for item in sublista]\n",
        "print(listas_anidadas)\n",
        "print(lista_simple)"
      ],
      "metadata": {
        "colab": {
          "base_uri": "https://localhost:8080/"
        },
        "id": "7bLrVAv6MkmD",
        "outputId": "e4d50aa7-e7d3-4e22-9dcf-806517f78292"
      },
      "execution_count": null,
      "outputs": [
        {
          "output_type": "stream",
          "name": "stdout",
          "text": [
            "\n",
            "6. Cuadrados de números:\n",
            "[1, 4, 9, 16, 25]\n",
            "\n",
            "cuadrados_pares\n",
            "[0, 4, 16, 36, 64]\n",
            "\n",
            "pares ordenados\n",
            "[(1, 1), (1, 2), (2, 1), (2, 2), (3, 1), (3, 2)]\n",
            "\n",
            "combinaciones\n",
            "[(1, 'a'), (1, 'b'), (1, 'c'), (2, 'a'), (2, 'b'), (2, 'c'), (3, 'a'), (3, 'b'), (3, 'c')]\n",
            "\n",
            "Multiples condiciones\n",
            "[0, 10, 20, 30, 40, 50, 60, 70, 80, 90]\n",
            "\n",
            "if-else\n",
            "['par', 'impar', 'par', 'impar', 'par', 'impar', 'par', 'impar', 'par', 'impar']\n",
            "\n",
            "Generar Combinaciones Filtradas\n",
            "[('A', 0), ('A', 2), ('B', 0), ('B', 2), ('C', 0), ('C', 2)]\n",
            "\n",
            "Aplanar listas\n",
            "[[1, 2, 3], [4, 5], [6, 7, 8]]\n",
            "[1, 2, 3, 4, 5, 6, 7, 8]\n"
          ]
        }
      ]
    },
    {
      "cell_type": "code",
      "source": [
        "# 7. Iteración sobre múltiples listas con zip\n",
        "print(\"\\n7. Combinando nombres y edades:\")\n",
        "nombres = [\"Ana\", \"Bob\", \"Carlos\"]\n",
        "edades = [25, 30, 35]\n",
        "for nombre, edad in zip(nombres, edades):\n",
        "    print(f\"{nombre} tiene {edad} años\")\n",
        "\n",
        "print(\"\\n7'. Combinando nombres y edades:\")\n",
        "combinado = zip(nombres, edades)\n",
        "print(list(combinado))\n",
        "\n",
        "print(\"\\n7''. Manejo de Diferentes Longitudes:\")\n",
        "nombres = ['Ana', 'Luis']\n",
        "edades = [25, 30, 35]\n",
        "\n",
        "combinado = zip(nombres, edades)\n",
        "print(list(combinado))\n",
        "\n",
        "print(\"\\n7'''. desempaquetar zip():\")\n",
        "combinado = [('Ana', 25), ('Bob', 30), ('Carlos', 35)]\n",
        "nombres, edades = zip(*combinado)\n",
        "\n",
        "print(\"ojo\",nombres)\n",
        "print(\"ojo\",edades)\n",
        "\n",
        "print(\"\\n7''''. Múltiples Iterables:\")\n",
        "nombres = ['Ana', 'Luis', 'Carlos']\n",
        "edades = [25, 30, 35]\n",
        "ciudades = ['Lima', 'Cusco', 'Arequipa']\n",
        "\n",
        "combinado = zip(nombres, edades, ciudades)\n",
        "\n",
        "print(list(combinado))\n",
        "\n",
        "print(\"\\n7'''''. Uso con Diccionarios:\")\n",
        "dict1 = {'a': 1, 'b': 2, 'c': 3}\n",
        "dict2 = {'a': 10, 'b': 20, 'c': 30}\n",
        "\n",
        "for (k1, v1), (k2, v2) in zip(dict1.items(), dict2.items()):\n",
        "    print(f\"Clave {k1} en dict1 tiene valor {v1}, y en dict2 tiene valor {v2}\")\n",
        "\n"
      ],
      "metadata": {
        "colab": {
          "base_uri": "https://localhost:8080/"
        },
        "id": "SNoWkiSCM6Nu",
        "outputId": "0a81a368-84bc-4c49-b161-001d02859d0c"
      },
      "execution_count": null,
      "outputs": [
        {
          "output_type": "stream",
          "name": "stdout",
          "text": [
            "\n",
            "7. Combinando nombres y edades:\n",
            "Ana tiene 25 años\n",
            "Bob tiene 30 años\n",
            "Carlos tiene 35 años\n",
            "\n",
            "7'. Combinando nombres y edades:\n",
            "[('Ana', 25), ('Bob', 30), ('Carlos', 35)]\n",
            "\n",
            "7''. Manejo de Diferentes Longitudes:\n",
            "[('Ana', 25), ('Luis', 30)]\n",
            "\n",
            "7'''. desempaquetar zip():\n",
            "ojo ('Ana', 'Bob', 'Carlos')\n",
            "ojo (25, 30, 35)\n",
            "\n",
            "7''''. Múltiples Iterables:\n",
            "[('Ana', 25, 'Lima'), ('Luis', 30, 'Cusco'), ('Carlos', 35, 'Arequipa')]\n",
            "\n",
            "7'''''. Uso con Diccionarios:\n",
            "Clave a en dict1 tiene valor 1, y en dict2 tiene valor 10\n",
            "Clave b en dict1 tiene valor 2, y en dict2 tiene valor 20\n",
            "Clave c en dict1 tiene valor 3, y en dict2 tiene valor 30\n"
          ]
        }
      ]
    },
    {
      "cell_type": "code",
      "source": [
        "# 8. Iteración sobre matriz (lista de listas)\n",
        "print(\"\\n8. Matriz de números:\")\n",
        "matriz = [[1, 2, 3], [4, 5, 6], [7, 8, 9]]\n",
        "for fila in matriz:\n",
        "    for elemento in fila:\n",
        "        print(elemento, end=\" \")\n",
        "    print()  # Nueva línea después de cada fila\n",
        "\n",
        "print(\"\\n8. Matriz de números (otra forma):\")\n",
        "for i, fila in enumerate(matriz):\n",
        "    for j, valor in enumerate(fila):\n",
        "        # print(f\"matriz[{i}][{j}] = {valor}\")\n",
        "        print(f\"{valor}\", end = \" \")\n",
        "    print()"
      ],
      "metadata": {
        "colab": {
          "base_uri": "https://localhost:8080/"
        },
        "id": "PPO14xREM6Ui",
        "outputId": "0b12db05-7b15-4e15-d0ac-d0b625571aeb"
      },
      "execution_count": null,
      "outputs": [
        {
          "output_type": "stream",
          "name": "stdout",
          "text": [
            "\n",
            "8. Matriz de números:\n",
            "1 2 3 \n",
            "4 5 6 \n",
            "7 8 9 \n",
            "\n",
            "8. Matriz de números (otra forma):\n",
            "1 2 3 \n",
            "4 5 6 \n",
            "7 8 9 \n"
          ]
        }
      ]
    },
    {
      "cell_type": "code",
      "source": [
        "# 9. Uso de continue y break\n",
        "print(\"\\n9. Números impares hasta encontrar un múltiplo de 5:\")\n",
        "for num in range(1, 20):\n",
        "    if num % 2 == 0:\n",
        "        continue  # Salta los números pares\n",
        "    if num % 5 == 0:\n",
        "        break  # Termina el bucle al encontrar un múltiplo de 5\n",
        "    print(num, end=\" \")\n",
        "print()  # Nueva línea al final"
      ],
      "metadata": {
        "colab": {
          "base_uri": "https://localhost:8080/"
        },
        "id": "YrsAxOwAM6Zc",
        "outputId": "75047683-658d-48f5-9633-86dd49f6d20b"
      },
      "execution_count": null,
      "outputs": [
        {
          "output_type": "stream",
          "name": "stdout",
          "text": [
            "\n",
            "9. Números impares hasta encontrar un múltiplo de 5:\n",
            "1 3 \n"
          ]
        }
      ]
    },
    {
      "cell_type": "code",
      "source": [
        "# 10. Generación de combinaciones\n",
        "print(\"\\n10. Combinaciones de colores y tamaños:\")\n",
        "colores = [\"rojo\", \"azul\"]\n",
        "tamaños = [\"pequeño\", \"grande\"]\n",
        "for color in colores:\n",
        "    for tamaño in tamaños:\n",
        "        print(f\"{color} {tamaño}\")"
      ],
      "metadata": {
        "colab": {
          "base_uri": "https://localhost:8080/"
        },
        "id": "r3VE7cuANOdf",
        "outputId": "45cb94df-9bd1-48c5-b509-7611f510c073"
      },
      "execution_count": null,
      "outputs": [
        {
          "output_type": "stream",
          "name": "stdout",
          "text": [
            "\n",
            "10. Combinaciones de colores y tamaños:\n",
            "rojo pequeño\n",
            "rojo grande\n",
            "azul pequeño\n",
            "azul grande\n"
          ]
        }
      ]
    },
    {
      "cell_type": "code",
      "source": [
        "# 11. Uso de else con for (se ejecuta si el bucle termina normalmente)\n",
        "print(\"\\n11. Buscando un número primo:\")\n",
        "\n",
        "numero = 31\n",
        "for i in range(2, numero):\n",
        "    if numero % i == 0:\n",
        "        print(f\"{numero} no es primo\")\n",
        "        break\n",
        "else:\n",
        "    print(f\"{numero} es primo\")"
      ],
      "metadata": {
        "colab": {
          "base_uri": "https://localhost:8080/"
        },
        "id": "EBtm1Nu7NOgV",
        "outputId": "53e527f5-1b8c-4dad-afc9-80c88a69cd8b"
      },
      "execution_count": null,
      "outputs": [
        {
          "output_type": "stream",
          "name": "stdout",
          "text": [
            "\n",
            "11. Buscando un número primo:\n",
            "31 es primo\n"
          ]
        }
      ]
    },
    {
      "cell_type": "code",
      "source": [
        "# 12. Iteración sobre objetos personalizados\n",
        "print(\"\\n12. Iteración sobre objetos personalizados:\")\n",
        "class IterablePersonalizado:\n",
        "    def __init__(self, inicio, fin):\n",
        "        self.inicio = inicio\n",
        "        self.fin = fin\n",
        "\n",
        "    def __iter__(self):\n",
        "        self.actual = self.inicio\n",
        "        return self\n",
        "\n",
        "    def __next__(self):\n",
        "        if self.actual > self.fin:\n",
        "            raise StopIteration\n",
        "        resultado = self.actual\n",
        "        self.actual += 1\n",
        "        return resultado\n",
        "\n",
        "for num in IterablePersonalizado(1, 5):\n",
        "    print(num, end=\" \")\n",
        "print()  # Nueva línea al final"
      ],
      "metadata": {
        "colab": {
          "base_uri": "https://localhost:8080/"
        },
        "id": "Efjc2at8NV1k",
        "outputId": "53bbc120-da04-4319-abd0-454891fc6cbb"
      },
      "execution_count": null,
      "outputs": [
        {
          "output_type": "stream",
          "name": "stdout",
          "text": [
            "\n",
            "12. Iteración sobre objetos personalizados:\n",
            "1 2 3 4 5 \n"
          ]
        }
      ]
    },
    {
      "cell_type": "markdown",
      "source": [
        "# Iteración /while"
      ],
      "metadata": {
        "id": "j2D99B7_SItu"
      }
    },
    {
      "cell_type": "code",
      "source": [
        "# 1. Contar hasta 5\n",
        "print(\"1. Contar hasta 5:\")\n",
        "contador = 1\n",
        "while contador <= 5:\n",
        "    print(contador)\n",
        "    contador += 1"
      ],
      "metadata": {
        "colab": {
          "base_uri": "https://localhost:8080/"
        },
        "id": "NswBFbv8SXBr",
        "outputId": "630f15f4-d0fe-4afd-d12c-ab31d582a050"
      },
      "execution_count": null,
      "outputs": [
        {
          "output_type": "stream",
          "name": "stdout",
          "text": [
            "1. Contar hasta 5:\n",
            "1\n",
            "2\n",
            "3\n",
            "4\n",
            "5\n"
          ]
        }
      ]
    },
    {
      "cell_type": "code",
      "source": [
        "# 2. Suma de números hasta un límite\n",
        "print(\"\\n2. Suma de números hasta 10:\")\n",
        "suma = 0\n",
        "numero = 1\n",
        "while suma < 10:\n",
        "    suma += numero\n",
        "    numero += 1\n",
        "print(f\"La suma es {suma} y se sumaron {numero - 1} números\")"
      ],
      "metadata": {
        "colab": {
          "base_uri": "https://localhost:8080/"
        },
        "id": "BzCR-jS-SXEO",
        "outputId": "01dd4987-aae7-4e1f-8138-63be5578afb1"
      },
      "execution_count": null,
      "outputs": [
        {
          "output_type": "stream",
          "name": "stdout",
          "text": [
            "\n",
            "2. Suma de números hasta 10:\n",
            "La suma es 10 y se sumaron 4 números\n"
          ]
        }
      ]
    },
    {
      "cell_type": "code",
      "source": [
        "# 3. Adivinar un número\n",
        "print(\"\\n3. Adivina el número:\")\n",
        "numero_secreto = 7\n",
        "intento = 0\n",
        "while intento != numero_secreto:\n",
        "    intento = int(input(\"Adivina el número (1-10): \"))\n",
        "    if intento == numero_secreto:\n",
        "        print(\"¡Correcto!\")\n",
        "    else:\n",
        "        print(\"Intenta de nuevo\")"
      ],
      "metadata": {
        "colab": {
          "base_uri": "https://localhost:8080/"
        },
        "id": "Guif3B0hSXGs",
        "outputId": "1608e3ea-2868-4126-cbe9-14c55bd203a8"
      },
      "execution_count": null,
      "outputs": [
        {
          "output_type": "stream",
          "name": "stdout",
          "text": [
            "\n",
            "3. Adivina el número:\n",
            "Adivina el número (1-10): 5\n",
            "Intenta de nuevo\n",
            "Adivina el número (1-10): 4\n",
            "Intenta de nuevo\n",
            "Adivina el número (1-10): 3\n",
            "Intenta de nuevo\n",
            "Adivina el número (1-10): 7\n",
            "¡Correcto!\n"
          ]
        }
      ]
    },
    {
      "cell_type": "code",
      "source": [
        "# 4. Factorial de un número\n",
        "print(\"\\n4. Factorial de un número:\")\n",
        "n = int(input(\"Ingresa un numero natural (n>0):\\n n = \"))\n",
        "\n",
        "if n>=0:\n",
        "    resultado = 1\n",
        "    while n > 1:\n",
        "        resultado *= n\n",
        "        n -= 1\n",
        "else:\n",
        "    resultado = \"No existe\"\n",
        "\n",
        "print(f\"El factorial de {n} es {resultado}\")"
      ],
      "metadata": {
        "colab": {
          "base_uri": "https://localhost:8080/"
        },
        "id": "GZ6sHlqLSXJE",
        "outputId": "feab072b-04b3-4080-e74f-81bbdbe895ca"
      },
      "execution_count": null,
      "outputs": [
        {
          "output_type": "stream",
          "name": "stdout",
          "text": [
            "\n",
            "4. Factorial de un número:\n",
            "Ingresa un numero natural (n>0):\n",
            " n = -2\n",
            "El factorial de -2 es No existe\n"
          ]
        }
      ]
    },
    {
      "cell_type": "code",
      "source": [
        "# 5. Validación de entrada\n",
        "print(\"\\n5. Validación de entrada:\")\n",
        "while True:\n",
        "    edad = input(\"Ingresa tu edad (0-120): \")\n",
        "    if edad.isdigit() and 0 <= int(edad) <= 120:\n",
        "        print(f\"Tu edad es {edad}\")\n",
        "        break\n",
        "    else:\n",
        "        print(\"Entrada inválida. Intenta de nuevo.\")"
      ],
      "metadata": {
        "colab": {
          "base_uri": "https://localhost:8080/"
        },
        "id": "G6v0KfgGSoxM",
        "outputId": "aa549840-60c6-4e1b-ab42-e6a6444127af"
      },
      "execution_count": null,
      "outputs": [
        {
          "output_type": "stream",
          "name": "stdout",
          "text": [
            "\n",
            "5. Validación de entrada:\n",
            "Ingresa tu edad (0-120): 25\n",
            "Tu edad es 25\n"
          ]
        }
      ]
    },
    {
      "cell_type": "code",
      "source": [
        "# 6. Menú interactivo\n",
        "print(\"\\n6. Menú interactivo:\")\n",
        "opcion = None\n",
        "while opcion != \"3\":\n",
        "    print(\"\\nMenú:\")\n",
        "    print(\"1. Saludar\")\n",
        "    print(\"2. Despedir\")\n",
        "    print(\"3. Salir\")\n",
        "    opcion = input(\"Elige una opción: \")\n",
        "    if opcion == \"1\":\n",
        "        print(\"¡Hola!\")\n",
        "    elif opcion == \"2\":\n",
        "        print(\"¡Adiós!\")\n",
        "    elif opcion == \"3\":\n",
        "        print(\"Saliendo...\")\n",
        "    else:\n",
        "        print(\"Opción no válida\")\n"
      ],
      "metadata": {
        "colab": {
          "base_uri": "https://localhost:8080/"
        },
        "id": "KLhdnlS6Soz2",
        "outputId": "942361b2-948f-403d-f511-1c640d68bdcc"
      },
      "execution_count": null,
      "outputs": [
        {
          "output_type": "stream",
          "name": "stdout",
          "text": [
            "\n",
            "6. Menú interactivo:\n",
            "\n",
            "Menú:\n",
            "1. Saludar\n",
            "2. Despedir\n",
            "3. Salir\n",
            "Elige una opción: 1\n",
            "¡Hola!\n",
            "\n",
            "Menú:\n",
            "1. Saludar\n",
            "2. Despedir\n",
            "3. Salir\n",
            "Elige una opción: 2\n",
            "¡Adiós!\n",
            "\n",
            "Menú:\n",
            "1. Saludar\n",
            "2. Despedir\n",
            "3. Salir\n",
            "Elige una opción: 3\n",
            "Saliendo...\n"
          ]
        }
      ]
    },
    {
      "cell_type": "code",
      "source": [
        "# 7. Generador de secuencia de Fibonacci\n",
        "print(\"\\n7. Secuencia de Fibonacci:\")\n",
        "n = int(input(\"Ingresa el numero de terminos a ver de la serie de Fibonacci:\\n n (n>0) = \"))\n",
        "\n",
        "if n >= 1:\n",
        "    a, b = 0, 1\n",
        "    count = 0\n",
        "    while count < n:\n",
        "        print(a, end=\" \")\n",
        "        a, b = b, a + b\n",
        "        count += 1\n",
        "else:\n",
        "    print(\"Error!\")\n",
        "\n",
        "\n",
        "print()  # Nueva línea"
      ],
      "metadata": {
        "colab": {
          "base_uri": "https://localhost:8080/"
        },
        "id": "ebzebwlESo2M",
        "outputId": "14ee6cda-b543-4242-aab7-0538a91a0e07"
      },
      "execution_count": null,
      "outputs": [
        {
          "output_type": "stream",
          "name": "stdout",
          "text": [
            "\n",
            "7. Secuencia de Fibonacci:\n",
            "Ingresa el numero de terminos a ver de la serie de Fibonacci:\n",
            " n (n>0) = 3\n",
            "0 1 1 \n"
          ]
        }
      ]
    },
    {
      "cell_type": "code",
      "source": [
        "# 8. Búsqueda binaria\n",
        "print(\"\\n8. Búsqueda binaria:\")\n",
        "lista_ordenada = [1, 3, 5, 7, 9, 11, 13, 15]\n",
        "objetivo = 7\n",
        "\n",
        "izquierda, derecha = 0, (len(lista_ordenada) - 1)\n",
        "\n",
        "while (izquierda <= derecha):\n",
        "    # print(f\"izquierda = {izquierda} y derecha = {derecha}\")\n",
        "    medio = (izquierda + derecha) // 2\n",
        "    if lista_ordenada[medio] == objetivo:\n",
        "        resultado =  medio\n",
        "        break\n",
        "    elif lista_ordenada[medio] < objetivo:\n",
        "        izquierda = medio + 1\n",
        "    else:\n",
        "        derecha = medio - 1\n",
        "else:\n",
        "    resultado = -1\n",
        "\n",
        "print(f\"El número {objetivo} está en el índice {resultado}\")"
      ],
      "metadata": {
        "colab": {
          "base_uri": "https://localhost:8080/"
        },
        "id": "zn3umM9HXjkq",
        "outputId": "e563831e-0144-4e10-8597-15ecfe048139"
      },
      "execution_count": null,
      "outputs": [
        {
          "output_type": "stream",
          "name": "stdout",
          "text": [
            "\n",
            "8. Búsqueda binaria:\n",
            "El número 7 está en el índice 3\n"
          ]
        }
      ]
    },
    {
      "cell_type": "code",
      "source": [
        "# 9. Simulación de lanzamiento de dados\n",
        "import random\n",
        "\n",
        "print(\"\\n9. Simulación de lanzamiento de dados:\")\n",
        "\n",
        "intentos = 0\n",
        "while True:\n",
        "    intentos += 1\n",
        "    resultado = random.randint(1, 6) + random.randint(1, 6)\n",
        "    print(f\"Intento {intentos}: {resultado}\")\n",
        "    if resultado == 7:\n",
        "        print(f\"¡Obtuviste un 7 en el intento {intentos}!\")\n",
        "        break\n"
      ],
      "metadata": {
        "colab": {
          "base_uri": "https://localhost:8080/"
        },
        "id": "uycKu2BXXjpM",
        "outputId": "c3a54158-4851-4e8b-fd26-7905a63f3408"
      },
      "execution_count": null,
      "outputs": [
        {
          "output_type": "stream",
          "name": "stdout",
          "text": [
            "\n",
            "9. Simulación de lanzamiento de dados:\n",
            "Intento 1: 12\n",
            "Intento 2: 12\n",
            "Intento 3: 7\n",
            "¡Obtuviste un 7 en el intento 3!\n"
          ]
        }
      ]
    },
    {
      "cell_type": "code",
      "source": [
        "# 10. Algoritmo de Euclides para MCD\n",
        "print(\"\\n10. Máximo Común Divisor (Algoritmo de Euclides):\")\n",
        "num1, num2 = 48, 18\n",
        "print(f\"El MCD de {num1} y {num2} es ...\")\n",
        "\n",
        "while num2:\n",
        "    num1, num2 = num2, num1 % num2\n",
        "\n",
        "resultado = num1\n",
        "print(f\" {resultado}\")"
      ],
      "metadata": {
        "colab": {
          "base_uri": "https://localhost:8080/"
        },
        "id": "w7NdkXrwXjs_",
        "outputId": "705b0c14-041b-4656-f2fe-87df8b63586b"
      },
      "execution_count": null,
      "outputs": [
        {
          "output_type": "stream",
          "name": "stdout",
          "text": [
            "\n",
            "10. Máximo Común Divisor (Algoritmo de Euclides):\n",
            "El MCD de 48 y 18 es ...\n",
            " 6\n"
          ]
        }
      ]
    },
    {
      "cell_type": "code",
      "source": [
        "# 12. Aproximación de pi (Método de Monte Carlo)\n",
        "import random\n",
        "print(\"\\n12. Aproximación de pi (Método de Monte Carlo):\")\n",
        "\n",
        "dentro_circulo = 0\n",
        "total_puntos = 1000000\n",
        "i = 0\n",
        "while i < total_puntos:\n",
        "    x = random.uniform(-1, 1)\n",
        "    y = random.uniform(-1, 1)\n",
        "    if x*x + y*y <= 1:\n",
        "        dentro_circulo += 1\n",
        "    i += 1\n",
        "aproximacion = 4 * dentro_circulo / total_puntos\n",
        "\n",
        "print(f\"Aproximación de pi: {aproximacion}\")"
      ],
      "metadata": {
        "colab": {
          "base_uri": "https://localhost:8080/"
        },
        "id": "7VEa2zn8egAA",
        "outputId": "fdb37516-ea2a-4289-f598-f40e41e9ef80"
      },
      "execution_count": null,
      "outputs": [
        {
          "output_type": "stream",
          "name": "stdout",
          "text": [
            "\n",
            "12. Aproximación de pi (Método de Monte Carlo):\n",
            "Aproximación de pi: 3.14218\n"
          ]
        }
      ]
    },
    {
      "cell_type": "markdown",
      "source": [
        "# Selección/match"
      ],
      "metadata": {
        "id": "w0eA8oG7fgKE"
      }
    },
    {
      "cell_type": "code",
      "source": [
        "# 1. Selección simple basada en valor\n",
        "print(\"1. Día de la semana:\")\n",
        "\n",
        "dia = 3\n",
        "match dia:\n",
        "    case 1:\n",
        "        print( \"Lunes\")\n",
        "    case 2:\n",
        "        print( \"Martes\")\n",
        "    case 3:\n",
        "        print( \"Miércoles\")\n",
        "    case 4:\n",
        "        print( \"Jueves\")\n",
        "    case 5:\n",
        "        print( \"Viernes\")\n",
        "    case 6:\n",
        "        print( \"Sábado\")\n",
        "    case 7:\n",
        "        print( \"Domingo\")\n",
        "    case _:\n",
        "        print( \"Día inválido\")\n",
        "\n"
      ],
      "metadata": {
        "colab": {
          "base_uri": "https://localhost:8080/"
        },
        "id": "D8acvEKnfz1x",
        "outputId": "5f354f98-a269-482c-8a48-31aca4ffdeaa"
      },
      "execution_count": null,
      "outputs": [
        {
          "output_type": "stream",
          "name": "stdout",
          "text": [
            "1. Día de la semana:\n",
            "Miércoles\n"
          ]
        }
      ]
    },
    {
      "cell_type": "code",
      "source": [
        "# 2. Uso de OR en patrones\n",
        "print(\"\\n2. Clasificación de números:\")\n",
        "num = 6\n",
        "\n",
        "match num:\n",
        "    case 0:\n",
        "        print( \"Cero\")\n",
        "    case 1 | 2 | 3:\n",
        "        print( \"Bajo\")\n",
        "    case 4 | 5 | 6 | 7:\n",
        "        print( \"Medio\")\n",
        "    case 8 | 9 | 10:\n",
        "        print( \"Alto\")\n",
        "    case _:\n",
        "        print( \"Fuera de rango\")\n",
        "\n"
      ],
      "metadata": {
        "colab": {
          "base_uri": "https://localhost:8080/"
        },
        "id": "EKrbZUA8gJHM",
        "outputId": "5170795e-8510-4f84-97b0-1056cf34cdda"
      },
      "execution_count": null,
      "outputs": [
        {
          "output_type": "stream",
          "name": "stdout",
          "text": [
            "\n",
            "2. Clasificación de números:\n",
            "Medio\n"
          ]
        }
      ]
    },
    {
      "cell_type": "code",
      "source": [
        "# 3. Uso de as para asignar el valor coincidente\n",
        "print(\"\\n3. Tipo de dato:\")\n",
        "valor = 42\n",
        "# valor = \"Hola\"\n",
        "match valor:\n",
        "    case int() as x:\n",
        "        print( f\"Entero: {x}\")\n",
        "    case float() as x:\n",
        "        print( f\"Flotante: {x}\")\n",
        "    case str() as x:\n",
        "        print( f\"Cadena: {x}\")\n",
        "    case _:\n",
        "        print( \"Tipo desconocido\")\n",
        "\n",
        "\n"
      ],
      "metadata": {
        "colab": {
          "base_uri": "https://localhost:8080/"
        },
        "id": "wbmgbsRHgJJp",
        "outputId": "afdd1b11-a82e-4f83-ca46-e7b484176756"
      },
      "execution_count": null,
      "outputs": [
        {
          "output_type": "stream",
          "name": "stdout",
          "text": [
            "\n",
            "3. Tipo de dato:\n",
            "Entero: 42\n"
          ]
        }
      ]
    },
    {
      "cell_type": "code",
      "source": [
        "# 4. Desempaquetado de tuplas\n",
        "print(\"\\n4. Operaciones geométricas:\")\n",
        "\n",
        "operacion = (\"área\", \"círculo\", 5)\n",
        "# operacion = (\"perímetro\", \"cuadrado\", 4)\n",
        "\n",
        "match operacion:\n",
        "    case (\"área\", \"círculo\", radio):\n",
        "        print( f\"Área del círculo: {3.14159 * radio ** 2}\")\n",
        "    case (\"perímetro\", \"cuadrado\", lado):\n",
        "        print( f\"Perímetro del cuadrado: {4 * lado}\")\n",
        "    case (\"volumen\", \"esfera\", radio):\n",
        "        print( f\"Volumen de la esfera: {4/3 * 3.14159 * radio ** 3}\")\n",
        "    case _:\n",
        "        print( \"Operación no reconocida\")\n"
      ],
      "metadata": {
        "colab": {
          "base_uri": "https://localhost:8080/"
        },
        "id": "qzmUYstLgJL-",
        "outputId": "537ef36b-d1a7-445c-f6f3-abb4637c0c04"
      },
      "execution_count": null,
      "outputs": [
        {
          "output_type": "stream",
          "name": "stdout",
          "text": [
            "\n",
            "4. Operaciones geométricas:\n",
            "Área del círculo: 78.53975\n"
          ]
        }
      ]
    },
    {
      "cell_type": "code",
      "source": [
        "# 5. Clasificación de edades\n",
        "print(\"\\n5. Clasificación de edades:\")\n",
        "\n",
        "edad = 25\n",
        "# edad = 70\n",
        "\n",
        "match edad:\n",
        "    case n if n < 0:\n",
        "        print( \"Edad inválida\")\n",
        "    case n if n < 18:\n",
        "        print( \"Menor de edad\")\n",
        "    case n if n < 65:\n",
        "        print( \"Adulto\")\n",
        "    case n if n >= 65:\n",
        "        print( \"Adulto mayor\")\n",
        "\n",
        "\n"
      ],
      "metadata": {
        "colab": {
          "base_uri": "https://localhost:8080/"
        },
        "id": "D7N6bIUehVdX",
        "outputId": "39b34f1a-035d-4124-9f31-1cd9c8f66e24"
      },
      "execution_count": null,
      "outputs": [
        {
          "output_type": "stream",
          "name": "stdout",
          "text": [
            "\n",
            "5. Clasificación de edades:\n",
            "Adulto\n"
          ]
        }
      ]
    },
    {
      "cell_type": "code",
      "source": [
        "# 6. Coincidencia de secuencias\n",
        "print(\"\\n6. Análisis de listas:\")\n",
        "\n",
        "lista = []\n",
        "lista = [1, 2, 3, 4]\n",
        "\n",
        "match lista:\n",
        "    case []:\n",
        "        print( \"Lista vacía\")\n",
        "    case [a]:\n",
        "        print( f\"Lista con un elemento: {a}\")\n",
        "    case [a, b]:\n",
        "        print( f\"Lista con dos elementos: {a} y {b}\")\n",
        "    case [a, *resto]:\n",
        "        print( f\"Lista con {len(resto) + 1} elementos, empezando por {a}\")\n",
        "\n"
      ],
      "metadata": {
        "colab": {
          "base_uri": "https://localhost:8080/"
        },
        "id": "8cuaJExuhVkA",
        "outputId": "730a94d7-2f58-4226-bef8-d2d1aafad467"
      },
      "execution_count": null,
      "outputs": [
        {
          "output_type": "stream",
          "name": "stdout",
          "text": [
            "\n",
            "6. Análisis de listas:\n",
            "Lista con 4 elementos, empezando por 1\n"
          ]
        }
      ]
    },
    {
      "cell_type": "code",
      "source": [
        "# 7. Coincidencia de diccionarios\n",
        "print(\"\\n7. Procesamiento de datos JSON:\")\n",
        "\n",
        "datos = {\"tipo\": \"usuario\", \"nombre\": \"Ana\", \"edad\": 30}\n",
        "# datos = {\"tipo\": \"producto\", \"nombre\": \"Laptop\", \"precio\": 999.4578}\n",
        "# datos = {\"tipo\": \"error\", \"código\": 123456, \"mensaje\": \"equipo fallido\"}\n",
        "# datos = {\"tipo\": \"error\", \"código\": '123456', \"mensaje\": \"equipo fallido\"}\n",
        "\n",
        "match datos:\n",
        "    case {\"tipo\": \"usuario\", \"nombre\": str(nombre), \"edad\": int(edad)}:\n",
        "        print( f\"Usuario: {nombre}, {edad} años\")\n",
        "    case {\"tipo\": \"producto\", \"nombre\": str(nombre), \"precio\": float(precio)}:\n",
        "        print( f\"Producto: {nombre}, ${precio:.2f}\")\n",
        "    case {\"tipo\": \"error\", \"código\": int(codigo), \"mensaje\": str(mensaje)}:\n",
        "        print( f\"Error {codigo}: {mensaje}\")\n",
        "    case _:\n",
        "        print( \"Datos JSON no reconocidos\")\n",
        "\n",
        "\n"
      ],
      "metadata": {
        "colab": {
          "base_uri": "https://localhost:8080/"
        },
        "id": "xS5Y2JsWiDVI",
        "outputId": "e59d3793-39c9-4730-dd89-64a1532fc216"
      },
      "execution_count": null,
      "outputs": [
        {
          "output_type": "stream",
          "name": "stdout",
          "text": [
            "\n",
            "7. Procesamiento de datos JSON:\n",
            "Datos JSON no reconocidos\n"
          ]
        }
      ]
    },
    {
      "cell_type": "code",
      "source": [
        "# 8. Uso avanzado de patrones y capturas\n",
        "print(\"\\n8. Análisis de estructuras de datos complejas:\")\n",
        "\n",
        "datos = {\"usuarios\": [{\"nombre\": \"Admin1\", \"rol\": \"admin\"}, {\"nombre\": \"User1\", \"rol\": \"user\"}]}\n",
        "# datos = {\"config\": {\"modo\": \"debug\", \"nivel\": 3, \"extra\": \"info\"}}\n",
        "# datos = {\"id\": 101, \"valor\": \"A\"}, {\"id\": 2, \"valor\": \"B\"}\n",
        "\n",
        "match datos:\n",
        "    case {\"usuarios\": [{\"nombre\": str(nombre), \"rol\": \"admin\"}, *_]}:\n",
        "        print( f\"El primer usuario admin es {nombre}\")\n",
        "    case {\"config\": {\"modo\": \"debug\", \"nivel\": int(nivel)} as config}:\n",
        "        print( f\"Modo debug activado, nivel {nivel}. Config completa: {config}\")\n",
        "    case [{\"id\": int(id), \"valor\": valor} as item, *_] if id > 100:\n",
        "        print( f\"Primer item con ID > 100: {item}\")\n",
        "    case _:\n",
        "        print( \"Estructura no reconocida\")\n",
        "\n"
      ],
      "metadata": {
        "colab": {
          "base_uri": "https://localhost:8080/"
        },
        "id": "vR687doVjHep",
        "outputId": "4bd7bd7a-39dc-470f-b8cf-71b7ac07e0bb"
      },
      "execution_count": null,
      "outputs": [
        {
          "output_type": "stream",
          "name": "stdout",
          "text": [
            "\n",
            "9. Análisis de estructuras de datos complejas:\n",
            "El primer usuario admin es Admin1\n"
          ]
        }
      ]
    },
    {
      "cell_type": "markdown",
      "source": [
        "# Ejemplos de Listas, Tuplas, Rangos y Arreglos en Python"
      ],
      "metadata": {
        "id": "SNXyw-7ikg1W"
      }
    },
    {
      "cell_type": "code",
      "source": [
        "# 1. Diccionarios\n",
        "print(\"1. Diccionarios:\")\n",
        "persona = {\"nombre\": \"Ana\", \"edad\": 28, \"ciudad\": \"Madrid\"}\n",
        "print(persona)\n",
        "print(f\"Nombre: {persona['nombre']}\")\n",
        "persona[\"profesion\"] = \"Ingeniera\"\n",
        "print(f\"Diccionario actualizado: {persona}\")"
      ],
      "metadata": {
        "colab": {
          "base_uri": "https://localhost:8080/"
        },
        "id": "YRk15qc3j2e7",
        "outputId": "a5f4ec11-a705-4e82-e587-c3f83800d1e7"
      },
      "execution_count": null,
      "outputs": [
        {
          "output_type": "stream",
          "name": "stdout",
          "text": [
            "1. Diccionarios:\n",
            "{'nombre': 'Ana', 'edad': 28, 'ciudad': 'Madrid'}\n",
            "Nombre: Ana\n",
            "Diccionario actualizado: {'nombre': 'Ana', 'edad': 28, 'ciudad': 'Madrid', 'profesion': 'Ingeniera'}\n"
          ]
        }
      ]
    },
    {
      "cell_type": "code",
      "source": [
        "# 2. Conjuntos\n",
        "print(\"\\n2. Conjuntos:\")\n",
        "frutas = {\"manzana\", \"banana\", \"cereza\"}\n",
        "print(f\"Conjunto de frutas: {frutas}\")\n",
        "frutas.add(\"naranja\")\n",
        "print(f\"Conjunto después de agregar 'naranja': {frutas}\")"
      ],
      "metadata": {
        "colab": {
          "base_uri": "https://localhost:8080/"
        },
        "id": "4GKTvyD-lIWX",
        "outputId": "197e5a00-e1e2-4015-c498-6d16952f8ccf"
      },
      "execution_count": null,
      "outputs": [
        {
          "output_type": "stream",
          "name": "stdout",
          "text": [
            "\n",
            "2. Conjuntos:\n",
            "Conjunto de frutas: {'banana', 'manzana', 'cereza'}\n",
            "Conjunto después de agregar 'naranja': {'banana', 'naranja', 'manzana', 'cereza'}\n"
          ]
        }
      ]
    },
    {
      "cell_type": "code",
      "source": [
        "# 3. Métodos de diccionarios\n",
        "print(\"\\n3. Métodos de diccionarios:\")\n",
        "persona = {\"nombre\": \"Ana\", \"edad\": 28, \"ciudad\": \"Madrid\"}\n",
        "\n",
        "for clave, valor in persona.items():\n",
        "    print(f\"{clave}: {valor}\")"
      ],
      "metadata": {
        "colab": {
          "base_uri": "https://localhost:8080/"
        },
        "id": "FEbyg53IlLiv",
        "outputId": "66ae7502-a231-4e1d-850e-740a96bb1fe7"
      },
      "execution_count": null,
      "outputs": [
        {
          "output_type": "stream",
          "name": "stdout",
          "text": [
            "\n",
            "3. Métodos de diccionarios:\n",
            "nombre: Ana\n",
            "edad: 28\n",
            "ciudad: Madrid\n"
          ]
        }
      ]
    },
    {
      "cell_type": "code",
      "source": [
        "# 4. Operaciones con conjuntos\n",
        "print(\"\\n4. Operaciones con conjuntos:\")\n",
        "set1 = {1, 2, 3, 4, 5}\n",
        "set2 = {4, 5, 6, 7, 8}\n",
        "print(f\"Unión: {set1 | set2}\")\n",
        "print(f\"Intersección: {set1 & set2}\")\n",
        "print(f\"Diferencia: {set1 - set2}\")"
      ],
      "metadata": {
        "colab": {
          "base_uri": "https://localhost:8080/"
        },
        "id": "JUjiLPsAlVtR",
        "outputId": "2c9d5c2b-a7ce-4a8c-f68e-ece0e6ded472"
      },
      "execution_count": null,
      "outputs": [
        {
          "output_type": "stream",
          "name": "stdout",
          "text": [
            "\n",
            "4. Operaciones con conjuntos:\n",
            "Unión: {1, 2, 3, 4, 5, 6, 7, 8}\n",
            "Intersección: {4, 5}\n",
            "Diferencia: {1, 2, 3}\n"
          ]
        }
      ]
    },
    {
      "cell_type": "code",
      "source": [
        "# 5. Diccionarios por comprensión\n",
        "print(\"\\n5. Diccionarios por comprensión:\")\n",
        "cuadrados = {x: x**2 for x in range(1, 6)}\n",
        "print(f\"Cuadrados: {cuadrados}\")"
      ],
      "metadata": {
        "colab": {
          "base_uri": "https://localhost:8080/"
        },
        "id": "NlS0vqo8lYMf",
        "outputId": "065bdcd8-21f7-4de9-8ace-ed658b9ac116"
      },
      "execution_count": null,
      "outputs": [
        {
          "output_type": "stream",
          "name": "stdout",
          "text": [
            "\n",
            "5. Diccionarios por comprensión:\n",
            "Cuadrados: {1: 1, 2: 4, 3: 9, 4: 16, 5: 25}\n"
          ]
        }
      ]
    },
    {
      "cell_type": "code",
      "source": [
        "# 6. Conjuntos por comprensión\n",
        "print(\"\\n6. Conjuntos por comprensión:\")\n",
        "vocales = {char for char in \"supercalifragilisticoexpialidoso\" if char in 'aeiou'}\n",
        "print(f\"Vocales únicas: {vocales}\")"
      ],
      "metadata": {
        "colab": {
          "base_uri": "https://localhost:8080/"
        },
        "id": "EWTxiUvalZov",
        "outputId": "56da336d-6f8b-4d61-8d01-13b1e8da873f"
      },
      "execution_count": null,
      "outputs": [
        {
          "output_type": "stream",
          "name": "stdout",
          "text": [
            "\n",
            "6. Conjuntos por comprensión:\n",
            "Vocales únicas: {'a', 'e', 'o', 'i', 'u'}\n"
          ]
        }
      ]
    },
    {
      "cell_type": "code",
      "source": [
        "# 7. Diccionarios anidados\n",
        "print(\"\\n7. Diccionarios anidados:\")\n",
        "empleados = {\n",
        "    \"Juan\": {\"departamento\": \"IT\", \"salario\": 50000},\n",
        "    \"Ana\": {\"departamento\": \"HR\", \"salario\": 45000}\n",
        "}\n",
        "print(f\"Salario de Juan: {empleados['Juan']['salario']}\")"
      ],
      "metadata": {
        "colab": {
          "base_uri": "https://localhost:8080/"
        },
        "id": "G2z5lO9xlfsr",
        "outputId": "2869f96a-1e4f-4002-c27a-bc036b70712d"
      },
      "execution_count": null,
      "outputs": [
        {
          "output_type": "stream",
          "name": "stdout",
          "text": [
            "\n",
            "7. Diccionarios anidados:\n",
            "Salario de Juan: 50000\n"
          ]
        }
      ]
    },
    {
      "cell_type": "code",
      "source": [
        "# 8. defaultdict\n",
        "from collections import defaultdict\n",
        "# defaultdict es una subclase del tipo estándar dict (diccionario) que proporciona\n",
        "# un valor predeterminado para las claves que no existen en el diccionario.\n",
        "\n",
        "\n",
        "print(\"\\n8. defaultdict:\")\n",
        "texto = \"el perro persigue al gato y el gato persigue al ratón\"\n",
        "conteo_palabras = defaultdict(int)\n",
        "print(f\"conteo_palabras = {conteo_palabras}\")\n",
        "for palabra in texto.split():\n",
        "    conteo_palabras[palabra] += 1\n",
        "print(f\"Conteo de palabras: {dict(conteo_palabras)}\")"
      ],
      "metadata": {
        "colab": {
          "base_uri": "https://localhost:8080/"
        },
        "id": "RAnNnyAPllXs",
        "outputId": "e50d1134-0270-4666-f647-a0dbb07925ef"
      },
      "execution_count": null,
      "outputs": [
        {
          "output_type": "stream",
          "name": "stdout",
          "text": [
            "\n",
            "8. defaultdict:\n",
            "conteo_palabras = defaultdict(<class 'int'>, {})\n",
            "Conteo de palabras: {'el': 2, 'perro': 1, 'persigue': 2, 'al': 2, 'gato': 2, 'y': 1, 'ratón': 1}\n"
          ]
        }
      ]
    },
    {
      "cell_type": "code",
      "source": [
        "# 9. Operaciones avanzadas con conjuntos\n",
        "print(\"\\n9. Operaciones avanzadas con conjuntos:\")\n",
        "A = {1, 2, 3, 4}\n",
        "B = {2, 3, 4, 5}\n",
        "C = {3, 4, 5, 6}\n",
        "print(f\"Diferencia simétrica: {A ^ B}\")\n",
        "print(f\"¿A es subconjunto de B?: {A.issubset(B)}\")\n",
        "print(f\"¿A es superconjunto de B?: {A.issuperset(B)}\")\n",
        "print(f\"Diferencia de múltiples conjuntos: {A - B - C}\")"
      ],
      "metadata": {
        "colab": {
          "base_uri": "https://localhost:8080/"
        },
        "id": "6AP7CATElrdD",
        "outputId": "0e37b85b-9be4-4d23-d384-c47853b4d22a"
      },
      "execution_count": null,
      "outputs": [
        {
          "output_type": "stream",
          "name": "stdout",
          "text": [
            "\n",
            "9. Operaciones avanzadas con conjuntos:\n",
            "Diferencia simétrica: {1, 5}\n",
            "¿A es subconjunto de B?: False\n",
            "¿A es superconjunto de B?: False\n",
            "Diferencia de múltiples conjuntos: {1}\n"
          ]
        }
      ]
    },
    {
      "cell_type": "code",
      "source": [
        "# 10. OrderedDict\n",
        "from collections import OrderedDict\n",
        "\n",
        "print(\"\\n10. OrderedDict:\")\n",
        "od = OrderedDict()\n",
        "od['a'] = 1\n",
        "od['b'] = 2\n",
        "od['c'] = 3\n",
        "od['d'] = 4\n",
        "print(f\"OrderedDict: {od}\")\n",
        "od.move_to_end('b')\n",
        "print(f\"Después de mover 'b' al final: {od}\")"
      ],
      "metadata": {
        "colab": {
          "base_uri": "https://localhost:8080/"
        },
        "id": "oRfw0x-WlriP",
        "outputId": "18ef05cd-c4f3-47d3-feaa-97fe55087f1b"
      },
      "execution_count": null,
      "outputs": [
        {
          "output_type": "stream",
          "name": "stdout",
          "text": [
            "\n",
            "10. OrderedDict:\n",
            "OrderedDict: OrderedDict([('a', 1), ('b', 2), ('c', 3), ('d', 4)])\n",
            "Después de mover 'b' al final: OrderedDict([('a', 1), ('c', 3), ('d', 4), ('b', 2)])\n"
          ]
        }
      ]
    },
    {
      "cell_type": "code",
      "source": [
        "# 11. Counter\n",
        "from collections import Counter\n",
        "# Counter es una subclase de dict diseñada específicamente para contar objetos\n",
        "# hashables y realizar operaciones comunes de conteo de elementos de manera eficiente.\n",
        "\n",
        "print(\"\\n11. Counter:\")\n",
        "\n",
        "lista = [1, 1, 2, 3, 3, 3, 4, 4, 4, 4]\n",
        "contador = Counter(lista)\n",
        "\n",
        "print(f\"Conteo: {contador}\")\n",
        "print(f\"Elementos más comunes: {contador.most_common(2)}\")\n",
        "\n",
        "print(\"\\n11'. Counter:\")\n",
        "# Crear dos Counters\n",
        "contador1 = Counter(a=3, b=2, c=1)\n",
        "contador2 = Counter(a=1, b=2, d=3)\n",
        "\n",
        "# Sumar dos Counters\n",
        "suma = contador1 + contador2\n",
        "\n",
        "# Restar dos Counters\n",
        "resta = contador1 - contador2\n",
        "\n",
        "print(\"Suma:\", suma)\n",
        "print(\"Resta:\", resta)"
      ],
      "metadata": {
        "colab": {
          "base_uri": "https://localhost:8080/"
        },
        "id": "kKpb4qgCmrNT",
        "outputId": "1ce375af-c43c-4929-d00d-4777d57fb2cb"
      },
      "execution_count": null,
      "outputs": [
        {
          "output_type": "stream",
          "name": "stdout",
          "text": [
            "\n",
            "11. Counter:\n",
            "Conteo: Counter({4: 4, 3: 3, 1: 2, 2: 1})\n",
            "Elementos más comunes: [(4, 4), (3, 3)]\n",
            "\n",
            "11'. Counter:\n",
            "Suma: Counter({'a': 4, 'b': 4, 'd': 3, 'c': 1})\n",
            "Resta: Counter({'a': 2, 'c': 1})\n"
          ]
        }
      ]
    },
    {
      "cell_type": "code",
      "source": [
        "# 12. Uso de frozenset\n",
        "print(\"\\n12. Uso de frozenset:\")\n",
        "normal_set = {1, 2, 3, 4}\n",
        "frozen = frozenset([1, 2, 3, 4])\n",
        "# frozenset es un tipo de conjunto en Python que es inmutable, lo que significa\n",
        "# que una vez creado, no se pueden modificar sus elementos.\n",
        "\n",
        "\n",
        "\n",
        "print(f\"Set normal: {normal_set}\")\n",
        "print(f\"Frozenset: {frozen}\")\n",
        "normal_set.add(5)\n",
        "# frozen.add(5)  # Esto causaría un error, ya que frozenset es inmutable\n",
        "print(f\"Set normal: {normal_set}\")\n",
        "# print(f\"Frozenset: {frozen}\")\n",
        "\n",
        "# Uso de frozenset como clave de diccionario\n",
        "dict_con_frozenset = {frozenset([1, 2]): \"Conjunto 1-2\",\n",
        "                      frozenset([3, 4]): \"Conjunto 3-4\"}\n",
        "print(f\"Diccionario con frozenset como clave: {dict_con_frozenset}\")"
      ],
      "metadata": {
        "colab": {
          "base_uri": "https://localhost:8080/"
        },
        "id": "XGRp5y_CnQt6",
        "outputId": "5aafe2df-bc1b-4eb0-df1f-605aae81e53a"
      },
      "execution_count": null,
      "outputs": [
        {
          "output_type": "stream",
          "name": "stdout",
          "text": [
            "\n",
            "12. Uso de frozenset:\n",
            "Set normal: {1, 2, 3, 4}\n",
            "Frozenset: frozenset({1, 2, 3, 4})\n",
            "Set normal: {1, 2, 3, 4, 5}\n",
            "Diccionario con frozenset como clave: {frozenset({1, 2}): 'Conjunto 1-2', frozenset({3, 4}): 'Conjunto 3-4'}\n"
          ]
        }
      ]
    },
    {
      "cell_type": "code",
      "source": [
        "# Crear dos frozensets\n",
        "fs1 = frozenset([1, 2, 3, 4])\n",
        "fs2 = frozenset([3, 4, 5, 6])\n",
        "\n",
        "# Unión\n",
        "union = fs1 | fs2\n",
        "print(\"Unión:\", union)\n",
        "\n",
        "# Intersección\n",
        "interseccion = fs1 & fs2\n",
        "print(\"Intersección:\", interseccion)\n",
        "\n",
        "# Diferencia\n",
        "diferencia = fs1 - fs2\n",
        "print(\"Diferencia:\", diferencia)\n",
        "\n",
        "# Diferencia Simétrica\n",
        "diferencia_simetrica = fs1 ^ fs2\n",
        "print(\"Diferencia Simétrica:\", diferencia_simetrica)"
      ],
      "metadata": {
        "colab": {
          "base_uri": "https://localhost:8080/"
        },
        "id": "HJoaY7GEocMu",
        "outputId": "bcbcc433-a0a5-4357-926c-ca78664ac237"
      },
      "execution_count": null,
      "outputs": [
        {
          "output_type": "stream",
          "name": "stdout",
          "text": [
            "Unión: frozenset({1, 2, 3, 4, 5, 6})\n",
            "Intersección: frozenset({3, 4})\n",
            "Diferencia: frozenset({1, 2})\n",
            "Diferencia Simétrica: frozenset({1, 2, 5, 6})\n"
          ]
        }
      ]
    },
    {
      "cell_type": "code",
      "source": [
        "# Crear un conjunto de frozensets\n",
        "conjunto_de_frozensets = {frozenset([1, 2]), frozenset([3, 4]), frozenset([1, 2])}\n",
        "\n",
        "print(conjunto_de_frozensets)"
      ],
      "metadata": {
        "colab": {
          "base_uri": "https://localhost:8080/"
        },
        "id": "b5PF8oYOo0An",
        "outputId": "623cde45-e970-421f-83c0-9920cb098b58"
      },
      "execution_count": null,
      "outputs": [
        {
          "output_type": "stream",
          "name": "stdout",
          "text": [
            "{frozenset({3, 4}), frozenset({1, 2})}\n"
          ]
        }
      ]
    }
  ]
}